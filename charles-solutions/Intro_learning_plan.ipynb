{
  "nbformat": 4,
  "nbformat_minor": 0,
  "metadata": {
    "colab": {
      "provenance": []
    },
    "kernelspec": {
      "name": "python3",
      "display_name": "Python 3"
    },
    "language_info": {
      "name": "python"
    }
  },
  "cells": [
    {
      "cell_type": "markdown",
      "source": [
        "# 🧠 Charles' Pandas Journey Log — Introduction & Learning Plan\n",
        "\n",
        "Welcome to my personal fork of the [100 Pandas Puzzles](https://github.com/ajcr/100-pandas-puzzles) repository. This notebook marks the beginning of my journey to master `pandas` through a structured, problem-based approach.\n",
        "\n",
        "## 📌 Why I'm Doing This\n",
        "\n",
        "- To build a deep, fluent command over `pandas`, a cornerstone library in Data Science.\n",
        "- To improve my debugging, problem solving, and pattern recognition in data manipulation.\n",
        "- To create public artifacts that showcase my technical growth, learnings, and work ethic.\n",
        "\n",
        "## 📅 Learning Strategy\n",
        "\n",
        "| Week | Milestone |\n",
        "|------|-----------|\n",
        "| Week 1 | Solve 10 beginner puzzles |\n",
        "| Week 2 | Solve next 10 (DataFrame basics) |\n",
        "| Week 3 | Medium-level puzzles + write a blog recap |\n",
        "| Week 4 | Hard-level puzzles + summarize learnings |\n",
        "| Month 2+ | Continue into Plotting, MultiIndex, and create personal twist challenges |\n",
        "\n",
        "## 🧩 Contribution Format\n",
        "\n",
        "Each solution notebook will:\n",
        "- Include **my own solution first** (no peeking).\n",
        "- Include **reflections** on what I learned or could improve.\n",
        "\n",
        "## 🏁 Final Output Goals\n",
        "\n",
        "- Publish weekly progress in GitHub.\n",
        "- Build a final “Pandas Reference Sheet” as a PDF or site.\n",
        "- Use this repo to pitch projects or showcase on my portfolio.\n",
        "\n",
        "Let the real work begin 🚀\n"
      ],
      "metadata": {
        "id": "H7l3yq6ahPgV"
      }
    }
  ]
}
