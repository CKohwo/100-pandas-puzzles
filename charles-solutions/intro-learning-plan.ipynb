{
  "nbformat": 4,
  "nbformat_minor": 0,
  "metadata": {
    "colab": {
      "provenance": []
    },
    "kernelspec": {
      "name": "python3",
      "display_name": "Python 3"
    },
    "language_info": {
      "name": "python"
    }
  },
  "cells": [
    {
      "cell_type": "markdown",
      "source": [
        "# Charles' Pandas Puzzle Lab 🔍🐼\n",
        "\n",
        "### 🧠 Why This Repo?\n",
        "This is a personal fork of [ajcr's 100 Pandas Puzzles](https://github.com/ajcr/100-pandas-puzzles), adapted as a hands-on learning journal. My aim is to sharpen my data wrangling and problem-solving skills using real-world exercises.\n",
        "\n",
        "### 🚀 Execution Plan:\n",
        "- Solve each puzzle in a **dedicated notebook** (one per puzzle or batch)\n",
        "- Follow clean, readable coding practices\n",
        "- Add personal commentary + alternative approaches when possible\n",
        "- Push weekly progress as commits\n",
        "- Track insights and techniques learned along the way\n",
        "\n",
        "### 🏁 Ultimate Goal:\n",
        "- Achieve fluency in pandas for real-world datasets\n",
        "- Use this repo as a portfolio artifact  "
      ],
      "metadata": {
        "id": "H7l3yq6ahPgV"
      }
    }
  ]
}