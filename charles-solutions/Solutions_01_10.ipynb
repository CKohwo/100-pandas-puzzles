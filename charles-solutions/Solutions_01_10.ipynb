{
  "nbformat": 4,
  "nbformat_minor": 0,
  "metadata": {
    "colab": {
      "provenance": []
    },
    "kernelspec": {
      "name": "python3",
      "display_name": "Python 3"
    },
    "language_info": {
      "name": "python"
    }
  },
  "cells": [
    {
      "cell_type": "markdown",
      "source": [
        "# 🧠 Charles' Solutions: Pandas Puzzles 001–010\n",
        "\n",
        "This notebook contains my personal solutions to puzzles 001 to 010 from the **100 Pandas Puzzles** project. The goal is to deepen fluency in real-world Data Science patterns, manipulation techniques, and pandas idioms.\n",
        "\n",
        "---\n",
        "\n",
        "## 🔧 Format Per Puzzle\n",
        "\n",
        "- ✅ **Problem Description**\n",
        "- 🧠 **My Reasoning**\n",
        "- 🧪 **Code Solution**\n",
        "- 📓 **Key Takeaways**\n",
        "\n",
        "---\n",
        "\n",
        "Let’s begin.\n"
      ],
      "metadata": {
        "id": "H7l3yq6ahPgV"
      }
    }
  ]
}