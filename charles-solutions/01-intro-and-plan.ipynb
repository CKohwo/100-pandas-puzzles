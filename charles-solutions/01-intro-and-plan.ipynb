# Charles' Pandas Puzzle Lab 🔍🐼

### 🧠 Why This Repo?
This is a personal fork of [ajcr's 100 Pandas Puzzles](https://github.com/ajcr/100-pandas-puzzles), adapted as a hands-on learning journal. My aim is to sharpen my data wrangling and problem-solving skills using real-world exercises.

### 🚀 Execution Plan:
- Solve each puzzle in a **dedicated notebook** (one per puzzle or batch)
- Follow clean, readable coding practices
- Add personal commentary + alternative approaches when possible
- Push weekly progress as commits
- Track insights and techniques learned along the way

### 🏁 Ultimate Goal:
- Achieve fluency in pandas for real-world datasets
- Use this repo as a portfolio artifact for freelance or full-time work
